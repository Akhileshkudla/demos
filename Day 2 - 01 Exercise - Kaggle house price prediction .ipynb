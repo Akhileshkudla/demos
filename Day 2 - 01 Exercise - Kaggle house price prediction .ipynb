{
 "cells": [
  {
   "cell_type": "markdown",
   "metadata": {},
   "source": [
    "# Kaggle house price prediction problem\n",
    "\n",
    "Description of the data \n",
    "https://www.kaggle.com/c/house-prices-advanced-regression-techniques/data\n",
    "\n",
    "1. Load data_combined_cleaned.csv \n",
    "2. Filter out all records where SalePrice is nan\n",
    "3. Perform one hot encoding on full data set\n",
    "4. Remove Id column from \n",
    "5. Devide the data into training and test datasets, use test size = 0.3 and random state = 1\n",
    "6. Create pipeline to scale the data and fit model\n",
    "7. Find r2 score based on training data and testing data\n",
    "\n"
   ]
  },
  {
   "cell_type": "code",
   "execution_count": null,
   "metadata": {},
   "outputs": [],
   "source": []
  }
 ],
 "metadata": {
  "kernelspec": {
   "display_name": "Python 3",
   "language": "python",
   "name": "python3"
  },
  "language_info": {
   "codemirror_mode": {
    "name": "ipython",
    "version": 3
   },
   "file_extension": ".py",
   "mimetype": "text/x-python",
   "name": "python",
   "nbconvert_exporter": "python",
   "pygments_lexer": "ipython3",
   "version": "3.6.4"
  }
 },
 "nbformat": 4,
 "nbformat_minor": 2
}
