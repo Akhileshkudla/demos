{
 "cells": [
  {
   "cell_type": "markdown",
   "metadata": {},
   "source": [
    "# Kaggle house price prediction problem\n",
    "\n",
    "Description of the data \n",
    "https://www.kaggle.com/c/house-prices-advanced-regression-techniques/data\n",
    "\n",
    "1. Load data_combined_cleaned.csv \n",
    "2. Filter out all records where SalePrice is nan\n",
    "3. Perform one hot encoding on full data set\n",
    "4. Remove Id column from dataset\n",
    "5. Divide the data into training and test datasets, use test size = 0.3 and random state = 1\n",
    "6. Create pipeline to scale the data and fit model\n",
    "7. Find r2 score based on training data and testing data\n",
    "\n",
    "Cleaned dataset is located in link below\n",
    "https://github.com/abulbasar/data/tree/master/kaggle-houseprice\n"
   ]
  },
  {
   "cell_type": "code",
   "execution_count": 3,
   "metadata": {},
   "outputs": [],
   "source": [
    "import pandas as pd\n",
    "import numpy as np\n",
    "from sklearn import *\n",
    "import matplotlib.pyplot as plt"
   ]
  },
  {
   "cell_type": "code",
   "execution_count": 17,
   "metadata": {},
   "outputs": [
    {
     "name": "stdout",
     "output_type": "stream",
     "text": [
      "<class 'pandas.core.frame.DataFrame'>\n",
      "Int64Index: 1460 entries, 0 to 1459\n",
      "Columns: 258 entries, MSSubClass to SaleCondition_Partial\n",
      "dtypes: float64(11), int64(25), uint8(222)\n",
      "memory usage: 738.6 KB\n"
     ]
    }
   ],
   "source": [
    "df = pd.read_csv(\"/data/kaggle/house-prices/data_combined_cleaned.csv\")\n",
    "df = df[~df.SalesPrice.isnull()]\n",
    "del df[\"Id\"]\n",
    "\n",
    "y = df.SalesPrice\n",
    "X = df.copy()\n",
    "del X[\"SalesPrice\"]\n",
    "X_dummy = pd.get_dummies(X, drop_first=True)\n",
    "X_dummy.info()"
   ]
  },
  {
   "cell_type": "code",
   "execution_count": 20,
   "metadata": {},
   "outputs": [
    {
     "name": "stdout",
     "output_type": "stream",
     "text": [
      "train R2 0.918867817322 test R2: 0.838123384039\n",
      "CPU times: user 74.3 ms, sys: 5.24 ms, total: 79.5 ms\n",
      "Wall time: 78.4 ms\n"
     ]
    }
   ],
   "source": [
    "%%time \n",
    "\n",
    "X_train, X_test, y_train, y_test = model_selection.train_test_split(X_dummy\n",
    "                        , y, test_size = 0.3, random_state = 1230)\n",
    "\n",
    "pipe = pipeline.Pipeline([\n",
    "    (\"poly\", preprocessing.PolynomialFeatures(degree = 1, \n",
    "                                include_bias=False)),\n",
    "    (\"scaler\", preprocessing.StandardScaler()),\n",
    "    (\"est\", linear_model.Lasso(alpha = 450, tol=0.0001) )\n",
    "])\n",
    "\n",
    "pipe.fit(X_train, y_train)\n",
    "print(\"train R2\", pipe.score(X_train, y_train), \n",
    "      \"test R2:\", pipe.score(X_test, y_test))\n"
   ]
  },
  {
   "cell_type": "code",
   "execution_count": 23,
   "metadata": {},
   "outputs": [
    {
     "name": "stderr",
     "output_type": "stream",
     "text": [
      "[Parallel(n_jobs=1)]: Done   5 out of   5 | elapsed:    0.3s finished\n"
     ]
    },
    {
     "data": {
      "text/plain": [
       "0.82456069007898147"
      ]
     },
     "execution_count": 23,
     "metadata": {},
     "output_type": "execute_result"
    }
   ],
   "source": [
    "scores = model_selection.cross_val_score(pipe, \n",
    "                    X_dummy, y, cv = 5, verbose=True)\n",
    "\n",
    "np.mean(scores)"
   ]
  },
  {
   "cell_type": "code",
   "execution_count": 29,
   "metadata": {},
   "outputs": [
    {
     "name": "stderr",
     "output_type": "stream",
     "text": [
      "[Parallel(n_jobs=1)]: Done   5 out of   5 | elapsed:    0.2s finished\n",
      "[Parallel(n_jobs=1)]: Done   5 out of   5 | elapsed:    0.1s finished\n"
     ]
    },
    {
     "data": {
      "text/plain": [
       "(0.82456069007898147, 0.8179883345147877)"
      ]
     },
     "execution_count": 29,
     "metadata": {},
     "output_type": "execute_result"
    }
   ],
   "source": [
    "pipe1 = pipeline.Pipeline([\n",
    "    (\"poly\", preprocessing.PolynomialFeatures(degree = 1, \n",
    "                                include_bias=False)),\n",
    "    (\"scaler\", preprocessing.StandardScaler()),\n",
    "    (\"est\", linear_model.Lasso(alpha = 450, tol=0.0001) )\n",
    "])\n",
    "\n",
    "pipe2 = pipeline.Pipeline([\n",
    "    (\"poly\", preprocessing.PolynomialFeatures(degree = 1, \n",
    "                                include_bias=False)),\n",
    "    (\"scaler\", preprocessing.StandardScaler()),\n",
    "    (\"est\", linear_model.Ridge(alpha = 40, tol=0.0001) )\n",
    "])\n",
    "\n",
    "scores1 = model_selection.cross_val_score(pipe1, \n",
    "                    X_dummy, y, cv = 5, verbose=True)\n",
    "\n",
    "scores2 = model_selection.cross_val_score(pipe2, \n",
    "                    X_dummy, y, cv = 5, verbose=True)\n",
    "\n",
    "\n",
    "np.mean(scores1), np.mean(scores2)"
   ]
  },
  {
   "cell_type": "code",
   "execution_count": 42,
   "metadata": {},
   "outputs": [
    {
     "name": "stdout",
     "output_type": "stream",
     "text": [
      "Fitting 5 folds for each of 50 candidates, totalling 250 fits\n",
      "Best param {'est__alpha': 970, 'est__tol': 0.0016681005372000592} best score:  0.832396031775\n",
      "CPU times: user 8.9 s, sys: 391 ms, total: 9.29 s\n",
      "Wall time: 9.29 s\n"
     ]
    },
    {
     "name": "stderr",
     "output_type": "stream",
     "text": [
      "[Parallel(n_jobs=1)]: Done 250 out of 250 | elapsed:    9.2s finished\n"
     ]
    }
   ],
   "source": [
    "%%time\n",
    "param_grid = {\n",
    "    \"est__alpha\": [500, 700, 850, 800, 970], \n",
    "    \"est__tol\": 10 ** np.linspace(-2, -3, 10)\n",
    "}\n",
    "gs = model_selection.GridSearchCV(param_grid= param_grid, \n",
    "                        estimator=pipe1, cv = 5, verbose=True)\n",
    "gs.fit(X_dummy, y)\n",
    "print(\"Best param\", gs.best_params_, \"best score: \", gs.best_score_)"
   ]
  },
  {
   "cell_type": "code",
   "execution_count": 43,
   "metadata": {},
   "outputs": [
    {
     "data": {
      "text/plain": [
       "Pipeline(memory=None,\n",
       "     steps=[('poly', PolynomialFeatures(degree=1, include_bias=False, interaction_only=False)), ('scaler', StandardScaler(copy=True, with_mean=True, with_std=True)), ('est', Lasso(alpha=970, copy_X=True, fit_intercept=True, max_iter=1000,\n",
       "   normalize=False, positive=False, precompute=False, random_state=None,\n",
       "   selection='cyclic', tol=0.0016681005372000592, warm_start=False))])"
      ]
     },
     "execution_count": 43,
     "metadata": {},
     "output_type": "execute_result"
    }
   ],
   "source": [
    "gs.best_estimator_"
   ]
  },
  {
   "cell_type": "code",
   "execution_count": 34,
   "metadata": {},
   "outputs": [
    {
     "data": {
      "text/plain": [
       "{'est__alpha': 1000}"
      ]
     },
     "execution_count": 34,
     "metadata": {},
     "output_type": "execute_result"
    }
   ],
   "source": [
    "gs.best_params_"
   ]
  },
  {
   "cell_type": "code",
   "execution_count": 35,
   "metadata": {},
   "outputs": [
    {
     "data": {
      "text/plain": [
       "0.83233698641556486"
      ]
     },
     "execution_count": 35,
     "metadata": {},
     "output_type": "execute_result"
    }
   ],
   "source": [
    "gs.best_score_"
   ]
  },
  {
   "cell_type": "code",
   "execution_count": 44,
   "metadata": {},
   "outputs": [],
   "source": [
    "import pickle"
   ]
  },
  {
   "cell_type": "code",
   "execution_count": 47,
   "metadata": {},
   "outputs": [],
   "source": [
    "with open(\"house_price_v1.obj\", \"wb\") as f:\n",
    "    pickle.dump(gs.best_estimator_, f)"
   ]
  },
  {
   "cell_type": "code",
   "execution_count": 49,
   "metadata": {},
   "outputs": [
    {
     "name": "stdout",
     "output_type": "stream",
     "text": [
      "total 1368\r\n",
      "-rw-r--r--  1 abulbasar  staff  169612 Jan 30 11:35 D1 - 01 pandas dataframe.ipynb\r\n",
      "-rw-r--r--  1 abulbasar  staff   33728 Jan 30 12:06 D1 - 02 top 10 movies (dataframe ops).ipynb\r\n",
      "-rw-r--r--  1 abulbasar  staff  189551 Jan 30 13:04 D1 - 03 visualization.ipynb\r\n",
      "-rw-r--r--  1 abulbasar  staff   51525 Jan 30 15:44 D1 - 04 Regression (Insurance).ipynb\r\n",
      "-rw-r--r--  1 abulbasar  staff   47399 Jan 30 17:26 D1 - 05 Exercise 2.ipynb\r\n",
      "-rw-r--r--  1 abulbasar  staff  170324 Jan 31 12:56 Day 2 - 01 Exercise - Kaggle house price prediction .ipynb\r\n",
      "-rw-r--r--  1 abulbasar  staff    8144 Jan 31 14:52 Day 2 - 02 Cross validation and hyper parameter tuning.ipynb\r\n",
      "-rw-r--r--  1 abulbasar  staff       8 Jan 30 11:21 README.md\r\n",
      "-rw-r--r--  1 abulbasar  staff    9484 Jan 31 14:54 house_price_v1.obj\r\n"
     ]
    }
   ],
   "source": [
    "!ls -l"
   ]
  },
  {
   "cell_type": "code",
   "execution_count": 50,
   "metadata": {},
   "outputs": [],
   "source": [
    "with open(\"house_price_v1.obj\", \"rb\") as f:\n",
    "    tuned_mode = pickle.load(f)"
   ]
  },
  {
   "cell_type": "code",
   "execution_count": 51,
   "metadata": {},
   "outputs": [
    {
     "data": {
      "text/plain": [
       "Pipeline(memory=None,\n",
       "     steps=[('poly', PolynomialFeatures(degree=1, include_bias=False, interaction_only=False)), ('scaler', StandardScaler(copy=True, with_mean=True, with_std=True)), ('est', Lasso(alpha=970, copy_X=True, fit_intercept=True, max_iter=1000,\n",
       "   normalize=False, positive=False, precompute=False, random_state=None,\n",
       "   selection='cyclic', tol=0.0016681005372000592, warm_start=False))])"
      ]
     },
     "execution_count": 51,
     "metadata": {},
     "output_type": "execute_result"
    }
   ],
   "source": [
    "tuned_mode"
   ]
  },
  {
   "cell_type": "code",
   "execution_count": 52,
   "metadata": {},
   "outputs": [
    {
     "data": {
      "text/plain": [
       "0.88995349937618362"
      ]
     },
     "execution_count": 52,
     "metadata": {},
     "output_type": "execute_result"
    }
   ],
   "source": [
    "tuned_mode.score(X_dummy, y)"
   ]
  },
  {
   "cell_type": "code",
   "execution_count": null,
   "metadata": {},
   "outputs": [],
   "source": []
  }
 ],
 "metadata": {
  "kernelspec": {
   "display_name": "Python 3",
   "language": "python",
   "name": "python3"
  },
  "language_info": {
   "codemirror_mode": {
    "name": "ipython",
    "version": 3
   },
   "file_extension": ".py",
   "mimetype": "text/x-python",
   "name": "python",
   "nbconvert_exporter": "python",
   "pygments_lexer": "ipython3",
   "version": "3.6.4"
  }
 },
 "nbformat": 4,
 "nbformat_minor": 2
}
