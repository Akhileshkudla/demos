{
 "cells": [
  {
   "cell_type": "code",
   "execution_count": 8,
   "metadata": {},
   "outputs": [],
   "source": [
    "import pandas as pd\n",
    "import numpy as np\n",
    "from sklearn import *\n",
    "import matplotlib.pyplot as plt\n",
    "\n",
    "import tensorflow as tf"
   ]
  },
  {
   "cell_type": "code",
   "execution_count": 62,
   "metadata": {},
   "outputs": [
    {
     "data": {
      "text/plain": [
       "<tf.Tensor 'add_1:0' shape=() dtype=int32>"
      ]
     },
     "execution_count": 62,
     "metadata": {},
     "output_type": "execute_result"
    }
   ],
   "source": [
    "a = tf.constant(10)\n",
    "b = tf.constant(5)\n",
    "c = a + b\n",
    "c"
   ]
  },
  {
   "cell_type": "code",
   "execution_count": 63,
   "metadata": {},
   "outputs": [
    {
     "name": "stdout",
     "output_type": "stream",
     "text": [
      "15\n"
     ]
    }
   ],
   "source": [
    "a = tf.constant(10)\n",
    "b = tf.constant(5)\n",
    "c = a + b\n",
    "with tf.Session() as sess:\n",
    "    print(sess.run(c))"
   ]
  },
  {
   "cell_type": "code",
   "execution_count": 64,
   "metadata": {
    "scrolled": false
   },
   "outputs": [
    {
     "name": "stdout",
     "output_type": "stream",
     "text": [
      "C [[ 29.]]\n"
     ]
    }
   ],
   "source": [
    "a = tf.placeholder(dtype=tf.float32, shape=[3, 1])\n",
    "b = tf.placeholder(dtype=tf.float32, shape=[3, 1])\n",
    "c = tf.matmul(tf.transpose(a), b)\n",
    "with tf.Session() as sess:\n",
    "    c_ = sess.run(c, feed_dict={a: np.array([1, 2, 3]).reshape(-1, 1), \n",
    "                                b: np.array([3, 7, 4]).reshape(-1, 1)})\n",
    "    print(\"C\", c_)"
   ]
  },
  {
   "cell_type": "code",
   "execution_count": 59,
   "metadata": {},
   "outputs": [],
   "source": [
    "import requests\n",
    "url = \"https://raw.githubusercontent.com/abulbasar/machine-learning/master/Utils.py\"\n",
    "exec(requests.get(url).text)"
   ]
  },
  {
   "cell_type": "code",
   "execution_count": 2,
   "metadata": {},
   "outputs": [
    {
     "data": {
      "text/html": [
       "<div>\n",
       "<style scoped>\n",
       "    .dataframe tbody tr th:only-of-type {\n",
       "        vertical-align: middle;\n",
       "    }\n",
       "\n",
       "    .dataframe tbody tr th {\n",
       "        vertical-align: top;\n",
       "    }\n",
       "\n",
       "    .dataframe thead th {\n",
       "        text-align: right;\n",
       "    }\n",
       "</style>\n",
       "<table border=\"1\" class=\"dataframe\">\n",
       "  <thead>\n",
       "    <tr style=\"text-align: right;\">\n",
       "      <th></th>\n",
       "      <th>Id</th>\n",
       "      <th>SepalLengthCm</th>\n",
       "      <th>SepalWidthCm</th>\n",
       "      <th>PetalLengthCm</th>\n",
       "      <th>PetalWidthCm</th>\n",
       "      <th>Species</th>\n",
       "    </tr>\n",
       "  </thead>\n",
       "  <tbody>\n",
       "    <tr>\n",
       "      <th>0</th>\n",
       "      <td>1</td>\n",
       "      <td>5.1</td>\n",
       "      <td>3.5</td>\n",
       "      <td>1.4</td>\n",
       "      <td>0.2</td>\n",
       "      <td>Iris-setosa</td>\n",
       "    </tr>\n",
       "    <tr>\n",
       "      <th>1</th>\n",
       "      <td>2</td>\n",
       "      <td>4.9</td>\n",
       "      <td>3.0</td>\n",
       "      <td>1.4</td>\n",
       "      <td>0.2</td>\n",
       "      <td>Iris-setosa</td>\n",
       "    </tr>\n",
       "    <tr>\n",
       "      <th>2</th>\n",
       "      <td>3</td>\n",
       "      <td>4.7</td>\n",
       "      <td>3.2</td>\n",
       "      <td>1.3</td>\n",
       "      <td>0.2</td>\n",
       "      <td>Iris-setosa</td>\n",
       "    </tr>\n",
       "    <tr>\n",
       "      <th>3</th>\n",
       "      <td>4</td>\n",
       "      <td>4.6</td>\n",
       "      <td>3.1</td>\n",
       "      <td>1.5</td>\n",
       "      <td>0.2</td>\n",
       "      <td>Iris-setosa</td>\n",
       "    </tr>\n",
       "    <tr>\n",
       "      <th>4</th>\n",
       "      <td>5</td>\n",
       "      <td>5.0</td>\n",
       "      <td>3.6</td>\n",
       "      <td>1.4</td>\n",
       "      <td>0.2</td>\n",
       "      <td>Iris-setosa</td>\n",
       "    </tr>\n",
       "  </tbody>\n",
       "</table>\n",
       "</div>"
      ],
      "text/plain": [
       "   Id  SepalLengthCm  SepalWidthCm  PetalLengthCm  PetalWidthCm      Species\n",
       "0   1            5.1           3.5            1.4           0.2  Iris-setosa\n",
       "1   2            4.9           3.0            1.4           0.2  Iris-setosa\n",
       "2   3            4.7           3.2            1.3           0.2  Iris-setosa\n",
       "3   4            4.6           3.1            1.5           0.2  Iris-setosa\n",
       "4   5            5.0           3.6            1.4           0.2  Iris-setosa"
      ]
     },
     "execution_count": 2,
     "metadata": {},
     "output_type": "execute_result"
    }
   ],
   "source": [
    "df = pd.read_csv(\"/data/iris.csv\")\n",
    "df.head()"
   ]
  },
  {
   "cell_type": "code",
   "execution_count": 3,
   "metadata": {},
   "outputs": [
    {
     "data": {
      "text/plain": [
       "Iris-versicolor    50\n",
       "Iris-setosa        50\n",
       "Iris-virginica     50\n",
       "Name: Species, dtype: int64"
      ]
     },
     "execution_count": 3,
     "metadata": {},
     "output_type": "execute_result"
    }
   ],
   "source": [
    "y = df.Species\n",
    "y.value_counts()"
   ]
  },
  {
   "cell_type": "code",
   "execution_count": 4,
   "metadata": {},
   "outputs": [],
   "source": [
    "features = [\"SepalLengthCm\", \"PetalLengthCm\"]"
   ]
  },
  {
   "cell_type": "code",
   "execution_count": 5,
   "metadata": {
    "scrolled": false
   },
   "outputs": [
    {
     "data": {
      "text/plain": [
       "<matplotlib.legend.Legend at 0x1a09b4aef0>"
      ]
     },
     "execution_count": 5,
     "metadata": {},
     "output_type": "execute_result"
    },
    {
     "data": {
      "image/png": "[encoded data removed]",
      "text/plain": [
       "<matplotlib.figure.Figure at 0x1a09b6e0b8>"
      ]
     },
     "metadata": {},
     "output_type": "display_data"
    }
   ],
   "source": [
    "cmap = {\"Iris-virginica\": \"red\",\n",
    "        \"Iris-setosa\": \"green\",\n",
    "        \"Iris-versicolor\": \"blue\"}\n",
    "colors = [cmap[c] for c in df.Species]\n",
    "\n",
    "for i, v in enumerate(y.unique()):\n",
    "    df2 = df[df.Species == v][features]\n",
    "    plt.scatter(df2.iloc[:, 0], df2.iloc[:, 1], color = cmap[v], label = v)\n",
    "\n",
    "plt.legend()"
   ]
  },
  {
   "cell_type": "code",
   "execution_count": 60,
   "metadata": {},
   "outputs": [
    {
     "data": {
      "image/png": "[encoded data removed]",
      "text/plain": [
       "<matplotlib.figure.Figure at 0x1c222a97b8>"
      ]
     },
     "metadata": {},
     "output_type": "display_data"
    }
   ],
   "source": [
    "y = np.where(df.Species == \"Iris-versicolor\", 1, 0)\n",
    "X = df[features]\n",
    "\n",
    "X_train, X_test, y_train, y_test = model_selection.train_test_split(X\n",
    "                , y, test_size = 0.3, random_state = 123)\n",
    "\n",
    "colors = np.where(y == 1, \"red\", \"blue\")\n",
    "X.plot.scatter(features[0], features[1], color = colors)\n",
    "\n",
    "scaler = preprocessing.StandardScaler()\n",
    "X_train_std = scaler.fit_transform(X_train)\n",
    "X_test_std = scaler.transform(X_test)"
   ]
  },
  {
   "cell_type": "code",
   "execution_count": 97,
   "metadata": {},
   "outputs": [
    {
     "data": {
      "text/plain": [
       "0.7777777777777778"
      ]
     },
     "execution_count": 97,
     "metadata": {},
     "output_type": "execute_result"
    }
   ],
   "source": [
    "35/45"
   ]
  },
  {
   "cell_type": "code",
   "execution_count": 131,
   "metadata": {
    "scrolled": false
   },
   "outputs": [
    {
     "name": "stdout",
     "output_type": "stream",
     "text": [
      "X Tensor(\"Placeholder:0\", shape=(?, 2), dtype=float32)\n",
      "y Tensor(\"Placeholder_1:0\", shape=(?,), dtype=int32)\n",
      "fulllayer_1W <tf.Variable 'fulllayer_1W:0' shape=(2, 3) dtype=float32_ref>\n",
      "fulllayer_1b <tf.Variable 'Variable:0' shape=(3,) dtype=float32_ref>\n",
      "fulllayer_2W <tf.Variable 'fulllayer_2W:0' shape=(3, 2) dtype=float32_ref>\n",
      "fulllayer_2b <tf.Variable 'Variable_1:0' shape=(2,) dtype=float32_ref>\n",
      "Z Tensor(\"add_1:0\", shape=(?, 2), dtype=float32)\n",
      "y_pred Tensor(\"ArgMax:0\", shape=(?,), dtype=int32)\n",
      "matching Tensor(\"Equal:0\", shape=(?,), dtype=bool)\n",
      "accuracy Tensor(\"Mean:0\", shape=(), dtype=float32)\n",
      "0 training [0.625] testing [0.77777779] logloss 0.676616\n",
      "200 training [0.9375] testing [0.95555556] logloss 0.123422\n",
      "400 training [0.9375] testing [0.95555556] logloss 0.123157\n",
      "600 training [0.9375] testing [0.95555556] logloss 0.123087\n",
      "800 training [0.9375] testing [0.95555556] logloss 0.123028\n",
      "1000 training [0.9375] testing [0.95555556] logloss 0.122992\n",
      "1200 training [0.9375] testing [0.95555556] logloss 0.12299\n",
      "1400 training [0.9375] testing [0.95555556] logloss 0.122982\n",
      "1600 training [0.9375] testing [0.95555556] logloss 0.122977\n",
      "1800 training [0.9375] testing [0.95555556] logloss 0.122977\n",
      "1999 training [1.0] testing [0.95555556] logloss 0.0253044\n"
     ]
    },
    {
     "data": {
      "image/png": "[encoded data removed]",
      "text/plain": [
       "<matplotlib.figure.Figure at 0x1c228763c8>"
      ]
     },
     "metadata": {},
     "output_type": "display_data"
    }
   ],
   "source": [
    "tf.reset_default_graph()\n",
    "tf.set_random_seed(1)\n",
    "\n",
    "n_x = 2\n",
    "n_y = 2\n",
    "learning_rate = 1e-1\n",
    "max_iters = 2000\n",
    "\n",
    "X = tf.placeholder(dtype=tf.float32, shape=[None, 2])\n",
    "y = tf.placeholder(dtype= tf.int32, shape=[None])\n",
    "\n",
    "y_oh = tf.one_hot(y,  n_y)\n",
    "\n",
    "print(\"X\", X)\n",
    "print(\"y\", y)\n",
    "\n",
    "def full_layer(name, input, size, activation = None):\n",
    "    input_size = int(input.get_shape()[1])\n",
    "    #W = tf.Variable(tf.truncated_normal(shape=[input_size, size]))\n",
    "    W = tf.get_variable(name + \"W\", shape = [input_size, size], \n",
    "                    initializer=tf.contrib.layers.xavier_initializer())\n",
    "    b =  tf.Variable(tf.constant(0.0, shape=[size]))\n",
    "    print(name + \"W\", W)\n",
    "    print(name + \"b\", b)\n",
    "    Z = tf.matmul(input, W) + b\n",
    "    \n",
    "    if callable(activation):\n",
    "        Z = activation(Z)\n",
    "        \n",
    "    return Z\n",
    "\n",
    "full_layer_1 = full_layer(\"fulllayer_1\", X, 3, activation=tf.nn.relu)\n",
    "full_layer_2 = full_layer(\"fulllayer_2\", full_layer_1, n_y)\n",
    "Z = full_layer_2\n",
    "print(\"Z\", Z)\n",
    "\n",
    "y_pred = tf.argmax(Z, 1, output_type=tf.int32)\n",
    "print(\"y_pred\", y_pred)\n",
    "\n",
    "matching = tf.equal(y, y_pred)\n",
    "print(\"matching\", matching)\n",
    "\n",
    "accuracy = tf.reduce_mean(tf.cast(matching, tf.float32))\n",
    "print(\"accuracy\", accuracy)\n",
    "\n",
    "cost = tf.reduce_mean(tf.nn.softmax_cross_entropy_with_logits(labels=y_oh,\n",
    "                                                logits=Z))\n",
    "\n",
    "optimizer = tf.train.AdamOptimizer(learning_rate).minimize(cost) \n",
    "\n",
    "scores = {}\n",
    "with tf.Session() as sess:\n",
    "    sess.run(tf.global_variables_initializer())\n",
    "    \n",
    "    batchable = Batchable(X=X_train_std, y= y_train, batch_size=64)\n",
    "    \n",
    "    for i in range(max_iters): \n",
    "        X_batch, y_batch = batchable.next()\n",
    "        \n",
    "        _, cost_, accuracy_ = sess.run([optimizer, cost, accuracy], \n",
    "                    feed_dict={X: X_batch, y: y_batch})\n",
    "        scores[i] = cost_\n",
    "        if i % (max_iters//10) == 0 or i == max_iters - 1:\n",
    "            training_accuracy_ = sess.run([accuracy], \n",
    "                    feed_dict={X: X_batch, y: y_batch})\n",
    "            testing_accuracy_ = sess.run([accuracy], \n",
    "                    feed_dict={X: X_test_std, y: y_test})\n",
    "            print(i, \n",
    "                  \"training\", training_accuracy_, \n",
    "                  \"testing\", testing_accuracy_,\n",
    "                  \"logloss\", cost_)\n",
    "    \n",
    "    plot_scores(scores)"
   ]
  }
 ],
 "metadata": {
  "kernelspec": {
   "display_name": "Python 3",
   "language": "python",
   "name": "python3"
  },
  "language_info": {
   "codemirror_mode": {
    "name": "ipython",
    "version": 3
   },
   "file_extension": ".py",
   "mimetype": "text/x-python",
   "name": "python",
   "nbconvert_exporter": "python",
   "pygments_lexer": "ipython3",
   "version": "3.6.4"
  }
 },
 "nbformat": 4,
 "nbformat_minor": 2
}
