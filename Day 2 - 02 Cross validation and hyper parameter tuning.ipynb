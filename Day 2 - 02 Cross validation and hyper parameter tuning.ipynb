{
 "cells": [
  {
   "cell_type": "markdown",
   "metadata": {},
   "source": [
    "# Kaggle house price prediction problem\n",
    "\n",
    "Description of the data \n",
    "https://www.kaggle.com/c/house-prices-advanced-regression-techniques/data\n",
    "\n",
    "1. Load data_combined_cleaned.csv \n",
    "2. Filter out all records where SalePrice is nan\n",
    "3. Perform one hot encoding on full data set\n",
    "4. Remove Id column from dataset\n",
    "5. Divide the data into training and test datasets, use test size = 0.3 and random state = 1\n",
    "6. Create pipeline to scale the data and fit model\n",
    "7. Find r2 score based on training data and testing data\n",
    "\n",
    "Cleaned dataset is located in link below\n",
    "https://github.com/abulbasar/data/tree/master/kaggle-houseprice\n"
   ]
  },
  {
   "cell_type": "code",
   "execution_count": 3,
   "metadata": {},
   "outputs": [],
   "source": [
    "import pandas as pd\n",
    "import numpy as np\n",
    "from sklearn import *\n",
    "import matplotlib.pyplot as plt"
   ]
  },
  {
   "cell_type": "code",
   "execution_count": 17,
   "metadata": {},
   "outputs": [
    {
     "name": "stdout",
     "output_type": "stream",
     "text": [
      "<class 'pandas.core.frame.DataFrame'>\n",
      "Int64Index: 1460 entries, 0 to 1459\n",
      "Columns: 258 entries, MSSubClass to SaleCondition_Partial\n",
      "dtypes: float64(11), int64(25), uint8(222)\n",
      "memory usage: 738.6 KB\n"
     ]
    }
   ],
   "source": [
    "df = pd.read_csv(\"/data/kaggle/house-prices/data_combined_cleaned.csv\")\n",
    "df = df[~df.SalesPrice.isnull()]\n",
    "del df[\"Id\"]\n",
    "\n",
    "y = df.SalesPrice\n",
    "X = df.copy()\n",
    "del X[\"SalesPrice\"]\n",
    "X_dummy = pd.get_dummies(X, drop_first=True)\n",
    "X_dummy.info()"
   ]
  },
  {
   "cell_type": "code",
   "execution_count": 20,
   "metadata": {},
   "outputs": [
    {
     "name": "stdout",
     "output_type": "stream",
     "text": [
      "train R2 0.918867817322 test R2: 0.838123384039\n",
      "CPU times: user 74.3 ms, sys: 5.24 ms, total: 79.5 ms\n",
      "Wall time: 78.4 ms\n"
     ]
    }
   ],
   "source": [
    "%%time \n",
    "\n",
    "X_train, X_test, y_train, y_test = model_selection.train_test_split(X_dummy\n",
    "                        , y, test_size = 0.3, random_state = 1230)\n",
    "\n",
    "pipe = pipeline.Pipeline([\n",
    "    (\"poly\", preprocessing.PolynomialFeatures(degree = 1, \n",
    "                                include_bias=False)),\n",
    "    (\"scaler\", preprocessing.StandardScaler()),\n",
    "    (\"est\", linear_model.Lasso(alpha = 450, tol=0.0001) )\n",
    "])\n",
    "\n",
    "pipe.fit(X_train, y_train)\n",
    "print(\"train R2\", pipe.score(X_train, y_train), \n",
    "      \"test R2:\", pipe.score(X_test, y_test))\n"
   ]
  },
  {
   "cell_type": "code",
   "execution_count": 23,
   "metadata": {},
   "outputs": [
    {
     "name": "stderr",
     "output_type": "stream",
     "text": [
      "[Parallel(n_jobs=1)]: Done   5 out of   5 | elapsed:    0.3s finished\n"
     ]
    },
    {
     "data": {
      "text/plain": [
       "0.82456069007898147"
      ]
     },
     "execution_count": 23,
     "metadata": {},
     "output_type": "execute_result"
    }
   ],
   "source": [
    "scores = model_selection.cross_val_score(pipe, \n",
    "                    X_dummy, y, cv = 5, verbose=True)\n",
    "\n",
    "np.mean(scores)"
   ]
  },
  {
   "cell_type": "code",
   "execution_count": 29,
   "metadata": {},
   "outputs": [
    {
     "name": "stderr",
     "output_type": "stream",
     "text": [
      "[Parallel(n_jobs=1)]: Done   5 out of   5 | elapsed:    0.2s finished\n",
      "[Parallel(n_jobs=1)]: Done   5 out of   5 | elapsed:    0.1s finished\n"
     ]
    },
    {
     "data": {
      "text/plain": [
       "(0.82456069007898147, 0.8179883345147877)"
      ]
     },
     "execution_count": 29,
     "metadata": {},
     "output_type": "execute_result"
    }
   ],
   "source": [
    "pipe1 = pipeline.Pipeline([\n",
    "    (\"poly\", preprocessing.PolynomialFeatures(degree = 1, \n",
    "                                include_bias=False)),\n",
    "    (\"scaler\", preprocessing.StandardScaler()),\n",
    "    (\"est\", linear_model.Lasso(alpha = 450, tol=0.0001) )\n",
    "])\n",
    "\n",
    "pipe2 = pipeline.Pipeline([\n",
    "    (\"poly\", preprocessing.PolynomialFeatures(degree = 1, \n",
    "                                include_bias=False)),\n",
    "    (\"scaler\", preprocessing.StandardScaler()),\n",
    "    (\"est\", linear_model.Ridge(alpha = 40, tol=0.0001) )\n",
    "])\n",
    "\n",
    "scores1 = model_selection.cross_val_score(pipe1, \n",
    "                    X_dummy, y, cv = 5, verbose=True)\n",
    "\n",
    "scores2 = model_selection.cross_val_score(pipe2, \n",
    "                    X_dummy, y, cv = 5, verbose=True)\n",
    "\n",
    "\n",
    "np.mean(scores1), np.mean(scores2)"
   ]
  },
  {
   "cell_type": "code",
   "execution_count": 42,
   "metadata": {},
   "outputs": [
    {
     "name": "stdout",
     "output_type": "stream",
     "text": [
      "Fitting 5 folds for each of 50 candidates, totalling 250 fits\n",
      "Best param {'est__alpha': 970, 'est__tol': 0.0016681005372000592} best score:  0.832396031775\n",
      "CPU times: user 8.9 s, sys: 391 ms, total: 9.29 s\n",
      "Wall time: 9.29 s\n"
     ]
    },
    {
     "name": "stderr",
     "output_type": "stream",
     "text": [
      "[Parallel(n_jobs=1)]: Done 250 out of 250 | elapsed:    9.2s finished\n"
     ]
    }
   ],
   "source": [
    "%%time\n",
    "param_grid = {\n",
    "    \"est__alpha\": [500, 700, 850, 800, 970], \n",
    "    \"est__tol\": 10 ** np.linspace(-2, -3, 10)\n",
    "}\n",
    "gs = model_selection.GridSearchCV(param_grid= param_grid, \n",
    "                        estimator=pipe1, cv = 5, verbose=True)\n",
    "gs.fit(X_dummy, y)\n",
    "print(\"Best param\", gs.best_params_, \"best score: \", gs.best_score_)"
   ]
  },
  {
   "cell_type": "code",
   "execution_count": 43,
   "metadata": {},
   "outputs": [
    {
     "data": {
      "text/plain": [
       "Pipeline(memory=None,\n",
       "     steps=[('poly', PolynomialFeatures(degree=1, include_bias=False, interaction_only=False)), ('scaler', StandardScaler(copy=True, with_mean=True, with_std=True)), ('est', Lasso(alpha=970, copy_X=True, fit_intercept=True, max_iter=1000,\n",
       "   normalize=False, positive=False, precompute=False, random_state=None,\n",
       "   selection='cyclic', tol=0.0016681005372000592, warm_start=False))])"
      ]
     },
     "execution_count": 43,
     "metadata": {},
     "output_type": "execute_result"
    }
   ],
   "source": [
    "gs.best_estimator_"
   ]
  },
  {
   "cell_type": "code",
   "execution_count": 34,
   "metadata": {},
   "outputs": [
    {
     "data": {
      "text/plain": [
       "{'est__alpha': 1000}"
      ]
     },
     "execution_count": 34,
     "metadata": {},
     "output_type": "execute_result"
    }
   ],
   "source": [
    "gs.best_params_"
   ]
  },
  {
   "cell_type": "code",
   "execution_count": 35,
   "metadata": {},
   "outputs": [
    {
     "data": {
      "text/plain": [
       "0.83233698641556486"
      ]
     },
     "execution_count": 35,
     "metadata": {},
     "output_type": "execute_result"
    }
   ],
   "source": [
    "gs.best_score_"
   ]
  },
  {
   "cell_type": "code",
   "execution_count": 44,
   "metadata": {},
   "outputs": [],
   "source": [
    "import pickle"
   ]
  },
  {
   "cell_type": "code",
   "execution_count": 47,
   "metadata": {},
   "outputs": [],
   "source": [
    "with open(\"house_price_v1.obj\", \"wb\") as f:\n",
    "    pickle.dump(gs.best_estimator_, f)"
   ]
  },
  {
   "cell_type": "code",
   "execution_count": 58,
   "metadata": {},
   "outputs": [
    {
     "name": "stdout",
     "output_type": "stream",
     "text": [
      "total 1384\r\n",
      "-rw-r--r--  1 abulbasar  staff   166K Jan 30 11:35 D1 - 01 pandas dataframe.ipynb\r\n",
      "-rw-r--r--  1 abulbasar  staff    33K Jan 30 12:06 D1 - 02 top 10 movies (dataframe ops).ipynb\r\n",
      "-rw-r--r--  1 abulbasar  staff   185K Jan 30 13:04 D1 - 03 visualization.ipynb\r\n",
      "-rw-r--r--  1 abulbasar  staff    50K Jan 30 15:44 D1 - 04 Regression (Insurance).ipynb\r\n",
      "-rw-r--r--  1 abulbasar  staff    46K Jan 30 17:26 D1 - 05 Exercise 2.ipynb\r\n",
      "-rw-r--r--  1 abulbasar  staff   166K Jan 31 12:56 Day 2 - 01 Exercise - Kaggle house price prediction .ipynb\r\n",
      "-rw-r--r--  1 abulbasar  staff    14K Jan 31 15:04 Day 2 - 02 Cross validation and hyper parameter tuning.ipynb\r\n",
      "-rw-r--r--  1 abulbasar  staff     8B Jan 30 11:21 README.md\r\n",
      "-rw-r--r--  1 abulbasar  staff   9.3K Jan 31 14:54 house_price_v1.obj\r\n"
     ]
    }
   ],
   "source": [
    "!ls -lh"
   ]
  },
  {
   "cell_type": "code",
   "execution_count": 59,
   "metadata": {},
   "outputs": [],
   "source": [
    "with open(\"house_price_v1.obj\", \"rb\") as f:\n",
    "    tuned_model = pickle.load(f)"
   ]
  },
  {
   "cell_type": "code",
   "execution_count": 60,
   "metadata": {},
   "outputs": [
    {
     "data": {
      "text/plain": [
       "Pipeline(memory=None,\n",
       "     steps=[('poly', PolynomialFeatures(degree=1, include_bias=False, interaction_only=False)), ('scaler', StandardScaler(copy=True, with_mean=True, with_std=True)), ('est', Lasso(alpha=970, copy_X=True, fit_intercept=True, max_iter=1000,\n",
       "   normalize=False, positive=False, precompute=False, random_state=None,\n",
       "   selection='cyclic', tol=0.0016681005372000592, warm_start=False))])"
      ]
     },
     "execution_count": 60,
     "metadata": {},
     "output_type": "execute_result"
    }
   ],
   "source": [
    "tuned_model"
   ]
  },
  {
   "cell_type": "code",
   "execution_count": 61,
   "metadata": {},
   "outputs": [
    {
     "data": {
      "text/plain": [
       "0.77548860256080387"
      ]
     },
     "execution_count": 61,
     "metadata": {},
     "output_type": "execute_result"
    }
   ],
   "source": [
    "tuned_model.score(X_dummy.iloc[4:10, :], y[4:10])"
   ]
  },
  {
   "cell_type": "code",
   "execution_count": 62,
   "metadata": {},
   "outputs": [
    {
     "data": {
      "text/plain": [
       "array([ 306033.81826596,  155502.64014781,  265794.52714223,\n",
       "        217437.95058527,  158230.0905231 ,  101514.50249275])"
      ]
     },
     "execution_count": 62,
     "metadata": {},
     "output_type": "execute_result"
    }
   ],
   "source": [
    "tuned_model.predict(X_dummy.iloc[4:10, :])"
   ]
  },
  {
   "cell_type": "code",
   "execution_count": 63,
   "metadata": {},
   "outputs": [
    {
     "data": {
      "text/html": [
       "<div>\n",
       "<style scoped>\n",
       "    .dataframe tbody tr th:only-of-type {\n",
       "        vertical-align: middle;\n",
       "    }\n",
       "\n",
       "    .dataframe tbody tr th {\n",
       "        vertical-align: top;\n",
       "    }\n",
       "\n",
       "    .dataframe thead th {\n",
       "        text-align: right;\n",
       "    }\n",
       "</style>\n",
       "<table border=\"1\" class=\"dataframe\">\n",
       "  <thead>\n",
       "    <tr style=\"text-align: right;\">\n",
       "      <th></th>\n",
       "      <th>MSSubClass</th>\n",
       "      <th>LotFrontage</th>\n",
       "      <th>LotArea</th>\n",
       "      <th>OverallQual</th>\n",
       "      <th>OverallCond</th>\n",
       "      <th>YearBuilt</th>\n",
       "      <th>YearRemodAdd</th>\n",
       "      <th>MasVnrArea</th>\n",
       "      <th>BsmtFinSF1</th>\n",
       "      <th>BsmtFinSF2</th>\n",
       "      <th>...</th>\n",
       "      <th>SaleType_ConLI</th>\n",
       "      <th>SaleType_ConLw</th>\n",
       "      <th>SaleType_New</th>\n",
       "      <th>SaleType_Oth</th>\n",
       "      <th>SaleType_WD</th>\n",
       "      <th>SaleCondition_AdjLand</th>\n",
       "      <th>SaleCondition_Alloca</th>\n",
       "      <th>SaleCondition_Family</th>\n",
       "      <th>SaleCondition_Normal</th>\n",
       "      <th>SaleCondition_Partial</th>\n",
       "    </tr>\n",
       "  </thead>\n",
       "  <tbody>\n",
       "    <tr>\n",
       "      <th>4</th>\n",
       "      <td>60</td>\n",
       "      <td>84.0</td>\n",
       "      <td>14260</td>\n",
       "      <td>8</td>\n",
       "      <td>5</td>\n",
       "      <td>2000</td>\n",
       "      <td>2000</td>\n",
       "      <td>350.0</td>\n",
       "      <td>655.0</td>\n",
       "      <td>0.0</td>\n",
       "      <td>...</td>\n",
       "      <td>0</td>\n",
       "      <td>0</td>\n",
       "      <td>0</td>\n",
       "      <td>0</td>\n",
       "      <td>1</td>\n",
       "      <td>0</td>\n",
       "      <td>0</td>\n",
       "      <td>0</td>\n",
       "      <td>1</td>\n",
       "      <td>0</td>\n",
       "    </tr>\n",
       "  </tbody>\n",
       "</table>\n",
       "<p>1 rows × 258 columns</p>\n",
       "</div>"
      ],
      "text/plain": [
       "   MSSubClass  LotFrontage  LotArea  OverallQual  OverallCond  YearBuilt  \\\n",
       "4          60         84.0    14260            8            5       2000   \n",
       "\n",
       "   YearRemodAdd  MasVnrArea  BsmtFinSF1  BsmtFinSF2          ...            \\\n",
       "4          2000       350.0       655.0         0.0          ...             \n",
       "\n",
       "   SaleType_ConLI  SaleType_ConLw  SaleType_New  SaleType_Oth  SaleType_WD  \\\n",
       "4               0               0             0             0            1   \n",
       "\n",
       "   SaleCondition_AdjLand  SaleCondition_Alloca  SaleCondition_Family  \\\n",
       "4                      0                     0                     0   \n",
       "\n",
       "   SaleCondition_Normal  SaleCondition_Partial  \n",
       "4                     1                      0  \n",
       "\n",
       "[1 rows x 258 columns]"
      ]
     },
     "execution_count": 63,
     "metadata": {},
     "output_type": "execute_result"
    }
   ],
   "source": [
    "X_dummy.iloc[4:5, :]"
   ]
  },
  {
   "cell_type": "code",
   "execution_count": 70,
   "metadata": {},
   "outputs": [
    {
     "data": {
      "text/plain": [
       "[('poly',\n",
       "  PolynomialFeatures(degree=1, include_bias=False, interaction_only=False)),\n",
       " ('scaler', StandardScaler(copy=True, with_mean=True, with_std=True)),\n",
       " ('est', Lasso(alpha=970, copy_X=True, fit_intercept=True, max_iter=1000,\n",
       "     normalize=False, positive=False, precompute=False, random_state=None,\n",
       "     selection='cyclic', tol=0.0016681005372000592, warm_start=False))]"
      ]
     },
     "execution_count": 70,
     "metadata": {},
     "output_type": "execute_result"
    }
   ],
   "source": [
    "tuned_model.steps"
   ]
  },
  {
   "cell_type": "code",
   "execution_count": 69,
   "metadata": {
    "scrolled": false
   },
   "outputs": [
    {
     "data": {
      "text/plain": [
       "(180921.19589041092,\n",
       " array([ -5859.95986016,     -0.        ,   2875.08512974,  16086.12635721,\n",
       "          4722.3814408 ,   6883.23672425,   2643.36406149,   3062.12986409,\n",
       "          3632.27127573,      0.        ,     -0.        ,   3183.98606473,\n",
       "             0.        ,      0.        ,   -660.69927526,  24095.94070835,\n",
       "          2485.42855571,     -0.        ,   1634.35865695,      0.        ,\n",
       "          -414.52443814,  -1759.68138661,   2285.04168091,   2344.37761672,\n",
       "             0.        ,   6569.51411885,    292.07859036,   2029.34263759,\n",
       "            53.59227509,     -0.        ,      0.        ,   1423.09355048,\n",
       "          4421.09213111,     -0.        ,     -0.        ,      0.        ,\n",
       "             0.        ,     -0.        ,      0.        ,  -1269.27466836,\n",
       "           479.68799885,      0.        ,     -0.        ,    647.79665395,\n",
       "         -1072.09048489,     -0.        ,    385.66179679,     -0.        ,\n",
       "           182.55103405,   2164.62706698,     -0.        ,     -0.        ,\n",
       "             0.        ,      0.        ,     -0.        ,      0.        ,\n",
       "            -0.        ,    527.36733499,      0.        ,      0.        ,\n",
       "          3350.4609917 ,   -849.3501998 ,     -0.        ,     -0.        ,\n",
       "            -0.        ,     -0.        ,   -268.29762594,      0.        ,\n",
       "          -349.39875365,   6319.32074633,   8597.64366611,     -0.        ,\n",
       "            -0.        ,      0.        ,      0.        ,   2161.11393692,\n",
       "          5443.65551627,      0.        ,    155.20172597,    -75.86663504,\n",
       "          2859.81858548,      0.        ,      0.        ,   -197.08872659,\n",
       "             0.        ,      0.        ,      0.        ,     -0.        ,\n",
       "             0.        ,    381.35789995,  -5302.55993693,     -0.        ,\n",
       "            -0.        ,      0.        ,      0.        ,   -957.55370291,\n",
       "          -879.99254169,   -448.2189356 ,      0.        ,      0.        ,\n",
       "            -0.        ,     -0.        ,     -0.        ,      0.        ,\n",
       "             0.        ,   -921.4196199 ,     -0.        ,      0.        ,\n",
       "             0.        ,      0.        ,    473.7682171 ,      0.        ,\n",
       "             0.        ,     -0.        ,     -0.        ,      0.        ,\n",
       "          4557.21118004,     -0.        ,     -0.        ,   2349.40340644,\n",
       "             0.        ,   1562.93520399,   -335.67730371,     -0.        ,\n",
       "             0.        ,     -0.        ,      0.        ,     -0.        ,\n",
       "             0.        ,     -0.        ,     -0.        ,     -0.        ,\n",
       "            -0.        ,      0.        ,      0.        ,      0.        ,\n",
       "            -0.        ,    651.65292348,      0.        ,     -0.        ,\n",
       "            -0.        ,     -0.        ,   -938.84311759,     93.09579966,\n",
       "            -0.        ,   -204.93453329,   -474.85790645,      0.        ,\n",
       "             0.        ,     -0.        ,     -0.        ,  -2520.03870784,\n",
       "            -0.        ,     -0.        ,     -0.        ,      0.        ,\n",
       "            -0.        ,    613.41893988,     -0.        ,      0.        ,\n",
       "            -0.        ,     -0.        ,  -4231.53142299,     -0.        ,\n",
       "         -2578.59663433,      0.        ,     -0.        ,      0.        ,\n",
       "           578.47086594,   5049.63411528,     -0.        ,  -2383.67522816,\n",
       "            -0.        ,      0.        ,   2023.00685164,     -0.        ,\n",
       "            -0.        ,     -0.        ,   -596.8026686 ,     -0.        ,\n",
       "            55.78855014,     -0.        ,     -0.        ,     -0.        ,\n",
       "             0.        ,     -0.        ,      0.        ,     -0.        ,\n",
       "          -477.86222635,      0.        ,     -0.        ,   -420.10201697,\n",
       "            -0.        ,   -593.0393911 ,      0.        ,     -0.        ,\n",
       "            -0.        ,     -0.        ,      0.        ,     -0.        ,\n",
       "         -5688.95948535,  -5144.74510748,     -0.        ,     -0.        ,\n",
       "            -0.        ,      0.        ,   -640.99766924,   2315.9104478 ,\n",
       "            -0.        ,      0.        ,     -0.        ,      0.        ,\n",
       "            -0.        ,      0.        ,   -130.48202337,    498.67658742,\n",
       "            -0.        ,     -0.        ,      0.        ,      0.        ,\n",
       "          -808.75330467,   -239.95931127,   -237.33085509,    650.58577537,\n",
       "             0.        ,     -0.        ,     -0.        ,     -0.        ,\n",
       "             0.        ,      0.        ,     -0.        ,     -0.        ,\n",
       "            -0.        ,      0.        ,  -1387.77298895,  -7263.02399945,\n",
       "            -0.        ,     -0.        ,      0.        ,     -0.        ,\n",
       "             0.        ,      0.        ,     -0.        ,     -0.        ,\n",
       "            -0.        ,      0.        ,    230.1297895 ,      0.        ,\n",
       "             0.        ,     -0.        ,   4930.45891072,      0.        ,\n",
       "            -0.        ,     -0.        ,      0.        ,   -245.53933692,\n",
       "             0.        ,      0.        ]))"
      ]
     },
     "execution_count": 69,
     "metadata": {},
     "output_type": "execute_result"
    }
   ],
   "source": [
    "est = tuned_model.steps[2][1]\n",
    "est.intercept_, est.coef_, "
   ]
  },
  {
   "cell_type": "code",
   "execution_count": null,
   "metadata": {},
   "outputs": [],
   "source": []
  }
 ],
 "metadata": {
  "kernelspec": {
   "display_name": "Python 3",
   "language": "python",
   "name": "python3"
  },
  "language_info": {
   "codemirror_mode": {
    "name": "ipython",
    "version": 3
   },
   "file_extension": ".py",
   "mimetype": "text/x-python",
   "name": "python",
   "nbconvert_exporter": "python",
   "pygments_lexer": "ipython3",
   "version": "3.6.4"
  }
 },
 "nbformat": 4,
 "nbformat_minor": 2
}
