{
 "cells": [
  {
   "cell_type": "markdown",
   "metadata": {},
   "source": [
    "# Kaggle house price prediction problem\n",
    "\n",
    "Description of the data \n",
    "https://www.kaggle.com/c/house-prices-advanced-regression-techniques/data\n",
    "\n",
    "1. Load data_combined_cleaned.csv \n",
    "2. Filter out all records where SalePrice is nan\n",
    "3. Perform one hot encoding on full data set\n",
    "4. Remove Id column from dataset\n",
    "5. Divide the data into training and test datasets, use test size = 0.3 and random state = 1\n",
    "6. Create pipeline to scale the data and fit model\n",
    "7. Find r2 score based on training data and testing data\n",
    "\n",
    "Cleaned dataset is located in link below\n",
    "https://github.com/abulbasar/data/tree/master/kaggle-houseprice\n"
   ]
  },
  {
   "cell_type": "code",
   "execution_count": 3,
   "metadata": {},
   "outputs": [],
   "source": [
    "import pandas as pd\n",
    "import numpy as np\n",
    "from sklearn import *\n",
    "import matplotlib.pyplot as plt"
   ]
  },
  {
   "cell_type": "code",
   "execution_count": 17,
   "metadata": {},
   "outputs": [
    {
     "name": "stdout",
     "output_type": "stream",
     "text": [
      "<class 'pandas.core.frame.DataFrame'>\n",
      "Int64Index: 1460 entries, 0 to 1459\n",
      "Columns: 258 entries, MSSubClass to SaleCondition_Partial\n",
      "dtypes: float64(11), int64(25), uint8(222)\n",
      "memory usage: 738.6 KB\n"
     ]
    }
   ],
   "source": [
    "df = pd.read_csv(\"/data/kaggle/house-prices/data_combined_cleaned.csv\")\n",
    "df = df[~df.SalesPrice.isnull()]\n",
    "del df[\"Id\"]\n",
    "\n",
    "y = df.SalesPrice\n",
    "X = df.copy()\n",
    "del X[\"SalesPrice\"]\n",
    "X_dummy = pd.get_dummies(X, drop_first=True)\n",
    "X_dummy.info()"
   ]
  },
  {
   "cell_type": "code",
   "execution_count": 20,
   "metadata": {},
   "outputs": [
    {
     "name": "stdout",
     "output_type": "stream",
     "text": [
      "train R2 0.918867817322 test R2: 0.838123384039\n",
      "CPU times: user 74.3 ms, sys: 5.24 ms, total: 79.5 ms\n",
      "Wall time: 78.4 ms\n"
     ]
    }
   ],
   "source": [
    "%%time \n",
    "\n",
    "X_train, X_test, y_train, y_test = model_selection.train_test_split(X_dummy\n",
    "                        , y, test_size = 0.3, random_state = 1230)\n",
    "\n",
    "pipe = pipeline.Pipeline([\n",
    "    (\"poly\", preprocessing.PolynomialFeatures(degree = 1, \n",
    "                                include_bias=False)),\n",
    "    (\"scaler\", preprocessing.StandardScaler()),\n",
    "    (\"est\", linear_model.Lasso(alpha = 450, tol=0.0001) )\n",
    "])\n",
    "\n",
    "pipe.fit(X_train, y_train)\n",
    "print(\"train R2\", pipe.score(X_train, y_train), \n",
    "      \"test R2:\", pipe.score(X_test, y_test))\n"
   ]
  },
  {
   "cell_type": "code",
   "execution_count": 23,
   "metadata": {},
   "outputs": [
    {
     "name": "stderr",
     "output_type": "stream",
     "text": [
      "[Parallel(n_jobs=1)]: Done   5 out of   5 | elapsed:    0.3s finished\n"
     ]
    },
    {
     "data": {
      "text/plain": [
       "0.82456069007898147"
      ]
     },
     "execution_count": 23,
     "metadata": {},
     "output_type": "execute_result"
    }
   ],
   "source": [
    "scores = model_selection.cross_val_score(pipe, \n",
    "                    X_dummy, y, cv = 5, verbose=True)\n",
    "\n",
    "np.mean(scores)"
   ]
  },
  {
   "cell_type": "code",
   "execution_count": 24,
   "metadata": {},
   "outputs": [
    {
     "name": "stderr",
     "output_type": "stream",
     "text": [
      "[Parallel(n_jobs=1)]: Done   5 out of   5 | elapsed:    0.3s finished\n",
      "[Parallel(n_jobs=1)]: Done   5 out of   5 | elapsed:    0.1s finished\n"
     ]
    },
    {
     "data": {
      "text/plain": [
       "(0.82456069007898147, 0.8179883345147877)"
      ]
     },
     "execution_count": 24,
     "metadata": {},
     "output_type": "execute_result"
    }
   ],
   "source": [
    "pipe1 = pipeline.Pipeline([\n",
    "    (\"poly\", preprocessing.PolynomialFeatures(degree = 1, \n",
    "                                include_bias=False)),\n",
    "    (\"scaler\", preprocessing.StandardScaler()),\n",
    "    (\"est\", linear_model.Lasso(alpha = 450, tol=0.0001) )\n",
    "])\n",
    "\n",
    "pipe2 = pipeline.Pipeline([\n",
    "    (\"poly\", preprocessing.PolynomialFeatures(degree = 1, \n",
    "                                include_bias=False)),\n",
    "    (\"scaler\", preprocessing.StandardScaler()),\n",
    "    (\"est\", linear_model.Ridge(alpha = 40, tol=0.0001) )\n",
    "])\n",
    "\n",
    "scores1 = model_selection.cross_val_score(pipe1, \n",
    "                    X_dummy, y, cv = 5, verbose=True)\n",
    "\n",
    "scores2 = model_selection.cross_val_score(pipe2, \n",
    "                    X_dummy, y, cv = 5, verbose=True)\n",
    "\n",
    "\n",
    "np.mean(scores1), np.mean(scores2)"
   ]
  },
  {
   "cell_type": "code",
   "execution_count": null,
   "metadata": {},
   "outputs": [],
   "source": []
  }
 ],
 "metadata": {
  "kernelspec": {
   "display_name": "Python 3",
   "language": "python",
   "name": "python3"
  },
  "language_info": {
   "codemirror_mode": {
    "name": "ipython",
    "version": 3
   },
   "file_extension": ".py",
   "mimetype": "text/x-python",
   "name": "python",
   "nbconvert_exporter": "python",
   "pygments_lexer": "ipython3",
   "version": "3.6.4"
  }
 },
 "nbformat": 4,
 "nbformat_minor": 2
}
